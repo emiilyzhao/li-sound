{
 "cells": [
  {
   "cell_type": "code",
   "execution_count": 20,
   "metadata": {},
   "outputs": [],
   "source": [
    "import streamlit as st\n",
    "import numpy as np\n",
    "import pandas as pd\n",
    "import geopandas as pd\n",
    "import sys \n",
    "import os\n",
    "import geopandas as gpd\n",
    "import sys \n",
    "import os\n",
    "#from final_functions import map"
   ]
  },
  {
   "cell_type": "code",
   "execution_count": 21,
   "metadata": {},
   "outputs": [],
   "source": [
    "def heat_data(data):\n",
    "    heat_data = []\n",
    "    current_date = None\n",
    "    current_sublist = []\n",
    "    for _, row in data.iterrows():\n",
    "        date = row['DATE']\n",
    "        coordinates = (row['LON'], row['LAT'])\n",
    "        weight = 1-float(row['DISSOLVED_OXYGEN_MG_L'] / data['DISSOLVED_OXYGEN_MG_L'].max())\n",
    "        \n",
    "        if pd.notnull(date) and pd.notnull(coordinates) and pd.notnull(weight):\n",
    "            if date != current_date:\n",
    "                if current_sublist:\n",
    "                    heat_data.append(current_sublist)\n",
    "                current_sublist = []\n",
    "                current_date = date\n",
    "            \n",
    "            # switch lat and lon\n",
    "            current_sublist.append([coordinates[1], coordinates[0], weight])\n",
    "\n",
    "    if current_sublist:\n",
    "        heat_data.append(current_sublist)\n",
    "\n",
    "    return heat_data\n",
    "\n",
    "def map(data):\n",
    "    df = heat_data(data)\n",
    "    index = [s.strip()[:8] for s in data['DATE'].unique()]\n",
    "    map = folium.Map(location=[40.979142, -73.08496], zoom_start=10)\n",
    "    heatmap = HeatMapWithTime(df, index=index, gradient={0.2: 'blue', 0.4: 'lime', 0.6: 'yellow', 0.9: 'red'}, radius = 40)\n",
    "    heatmap.add_to(map)\n",
    "    return map\n",
    "\n",
    "def time_series(data):\n",
    "    index = [s.strip()[:8] for s in data['DATE'].unique()]\n",
    "    fig = go.Figure(data=go.Scatter(x=index, y=data['DISSOLVED_OXYGEN_MG_L'], mode='lines'))\n",
    "    fig.update_layout(title='Time Series of Dissolved Oxygen', xaxis_title='Index', yaxis_title='Dissolved Oxygen (mg/L)')\n",
    "    return fig"
   ]
  },
  {
   "cell_type": "code",
   "execution_count": 24,
   "metadata": {},
   "outputs": [
    {
     "ename": "TypeError",
     "evalue": "unsupported operand type(s) for /: 'str' and 'str'",
     "output_type": "error",
     "traceback": [
      "\u001b[0;31m---------------------------------------------------------------------------\u001b[0m",
      "\u001b[0;31mTypeError\u001b[0m                                 Traceback (most recent call last)",
      "Cell \u001b[0;32mIn[24], line 4\u001b[0m\n\u001b[1;32m      2\u001b[0m bottom \u001b[38;5;241m=\u001b[39m pd\u001b[38;5;241m.\u001b[39mread_file(\u001b[38;5;124m'\u001b[39m\u001b[38;5;124m/Users/emilyzhao/li-sound/data/processed/processed-bottom.csv\u001b[39m\u001b[38;5;124m'\u001b[39m)\n\u001b[1;32m      3\u001b[0m \u001b[38;5;66;03m# testers, running\u001b[39;00m\n\u001b[0;32m----> 4\u001b[0m \u001b[38;5;28;43mmap\u001b[39;49m\u001b[43m(\u001b[49m\u001b[43msurface\u001b[49m\u001b[43m)\u001b[49m\n\u001b[1;32m      5\u001b[0m time_series(surface)\n",
      "Cell \u001b[0;32mIn[21], line 26\u001b[0m, in \u001b[0;36mmap\u001b[0;34m(data)\u001b[0m\n\u001b[1;32m     25\u001b[0m \u001b[38;5;28;01mdef\u001b[39;00m \u001b[38;5;21mmap\u001b[39m(data):\n\u001b[0;32m---> 26\u001b[0m     df \u001b[38;5;241m=\u001b[39m \u001b[43mheat_data\u001b[49m\u001b[43m(\u001b[49m\u001b[43mdata\u001b[49m\u001b[43m)\u001b[49m\n\u001b[1;32m     27\u001b[0m     index \u001b[38;5;241m=\u001b[39m [s\u001b[38;5;241m.\u001b[39mstrip()[:\u001b[38;5;241m8\u001b[39m] \u001b[38;5;28;01mfor\u001b[39;00m s \u001b[38;5;129;01min\u001b[39;00m data[\u001b[38;5;124m'\u001b[39m\u001b[38;5;124mDATE\u001b[39m\u001b[38;5;124m'\u001b[39m]\u001b[38;5;241m.\u001b[39munique()]\n\u001b[1;32m     28\u001b[0m     \u001b[38;5;28mmap\u001b[39m \u001b[38;5;241m=\u001b[39m folium\u001b[38;5;241m.\u001b[39mMap(location\u001b[38;5;241m=\u001b[39m[\u001b[38;5;241m40.979142\u001b[39m, \u001b[38;5;241m-\u001b[39m\u001b[38;5;241m73.08496\u001b[39m], zoom_start\u001b[38;5;241m=\u001b[39m\u001b[38;5;241m10\u001b[39m)\n",
      "Cell \u001b[0;32mIn[21], line 8\u001b[0m, in \u001b[0;36mheat_data\u001b[0;34m(data)\u001b[0m\n\u001b[1;32m      6\u001b[0m date \u001b[38;5;241m=\u001b[39m row[\u001b[38;5;124m'\u001b[39m\u001b[38;5;124mDATE\u001b[39m\u001b[38;5;124m'\u001b[39m]\n\u001b[1;32m      7\u001b[0m coordinates \u001b[38;5;241m=\u001b[39m (row[\u001b[38;5;124m'\u001b[39m\u001b[38;5;124mLON\u001b[39m\u001b[38;5;124m'\u001b[39m], row[\u001b[38;5;124m'\u001b[39m\u001b[38;5;124mLAT\u001b[39m\u001b[38;5;124m'\u001b[39m])\n\u001b[0;32m----> 8\u001b[0m weight \u001b[38;5;241m=\u001b[39m \u001b[38;5;241m1\u001b[39m\u001b[38;5;241m-\u001b[39m\u001b[38;5;28mfloat\u001b[39m(\u001b[43mrow\u001b[49m\u001b[43m[\u001b[49m\u001b[38;5;124;43m'\u001b[39;49m\u001b[38;5;124;43mDISSOLVED_OXYGEN_MG_L\u001b[39;49m\u001b[38;5;124;43m'\u001b[39;49m\u001b[43m]\u001b[49m\u001b[43m \u001b[49m\u001b[38;5;241;43m/\u001b[39;49m\u001b[43m \u001b[49m\u001b[43mdata\u001b[49m\u001b[43m[\u001b[49m\u001b[38;5;124;43m'\u001b[39;49m\u001b[38;5;124;43mDISSOLVED_OXYGEN_MG_L\u001b[39;49m\u001b[38;5;124;43m'\u001b[39;49m\u001b[43m]\u001b[49m\u001b[38;5;241;43m.\u001b[39;49m\u001b[43mmax\u001b[49m\u001b[43m(\u001b[49m\u001b[43m)\u001b[49m)\n\u001b[1;32m     10\u001b[0m \u001b[38;5;28;01mif\u001b[39;00m pd\u001b[38;5;241m.\u001b[39mnotnull(date) \u001b[38;5;129;01mand\u001b[39;00m pd\u001b[38;5;241m.\u001b[39mnotnull(coordinates) \u001b[38;5;129;01mand\u001b[39;00m pd\u001b[38;5;241m.\u001b[39mnotnull(weight):\n\u001b[1;32m     11\u001b[0m     \u001b[38;5;28;01mif\u001b[39;00m date \u001b[38;5;241m!=\u001b[39m current_date:\n",
      "\u001b[0;31mTypeError\u001b[0m: unsupported operand type(s) for /: 'str' and 'str'"
     ]
    }
   ],
   "source": [
    "surface = pd.read_file('/Users/emilyzhao/li-sound/data/processed/processed-surface.csv')\n",
    "bottom = pd.read_file('/Users/emilyzhao/li-sound/data/processed/processed-bottom.csv')\n",
    "# testers, running\n",
    "map(surface)\n",
    "time_series(surface)"
   ]
  }
 ],
 "metadata": {
  "kernelspec": {
   "display_name": ".venv",
   "language": "python",
   "name": "python3"
  },
  "language_info": {
   "codemirror_mode": {
    "name": "ipython",
    "version": 3
   },
   "file_extension": ".py",
   "mimetype": "text/x-python",
   "name": "python",
   "nbconvert_exporter": "python",
   "pygments_lexer": "ipython3",
   "version": "3.11.2"
  }
 },
 "nbformat": 4,
 "nbformat_minor": 2
}
