{
 "cells": [
  {
   "cell_type": "code",
   "execution_count": 1,
   "metadata": {},
   "outputs": [],
   "source": [
    "import streamlit as st\n",
    "import numpy as np\n",
    "import pandas as pd\n",
    "import geopandas as pd\n",
    "import sys \n",
    "import os\n",
    "import geopandas as gpd\n",
    "import sys \n",
    "import os\n",
    "from streamlit_folium import st_folium, folium_static\n",
    "from final_functions import *"
   ]
  },
  {
   "cell_type": "code",
   "execution_count": 9,
   "metadata": {},
   "outputs": [],
   "source": [
    "surface = pd.read_csv('/Users/emilyzhao/li-sound/.streamlit/data/processed/processed-surface.csv')\n",
    "bottom = pd.read_csv('/Users/emilyzhao/li-sound/data/processed/processed-bottom.csv')"
   ]
  },
  {
   "cell_type": "code",
   "execution_count": 8,
   "metadata": {},
   "outputs": [],
   "source": [
    "surface_time = folium_static(mapping(surface))"
   ]
  }
 ],
 "metadata": {
  "kernelspec": {
   "display_name": ".venv",
   "language": "python",
   "name": "python3"
  },
  "language_info": {
   "codemirror_mode": {
    "name": "ipython",
    "version": 3
   },
   "file_extension": ".py",
   "mimetype": "text/x-python",
   "name": "python",
   "nbconvert_exporter": "python",
   "pygments_lexer": "ipython3",
   "version": "3.11.2"
  }
 },
 "nbformat": 4,
 "nbformat_minor": 2
}
